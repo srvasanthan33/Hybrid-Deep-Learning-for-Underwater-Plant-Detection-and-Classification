{
 "cells": [
  {
   "cell_type": "code",
   "execution_count": null,
   "metadata": {
    "colab": {
     "base_uri": "https://localhost:8080/"
    },
    "id": "N7EvohKAtqnV",
    "outputId": "b03ba6cc-9ad1-4004-e3b4-abbb3e6290f8"
   },
   "outputs": [
    {
     "name": "stdout",
     "output_type": "stream",
     "text": [
      "^C\n",
      "Note: you may need to restart the kernel to use updated packages.\n"
     ]
    }
   ],
   "source": [
    "!pip install ultralytics torch torchvision matplotlib scikit-learn\n"
   ]
  },
  {
   "cell_type": "code",
   "execution_count": 1,
   "metadata": {
    "id": "RMrDGFU1tv50"
   },
   "outputs": [],
   "source": [
    "import torch\n",
    "from ultralytics import YOLO\n",
    "import torchvision.transforms as transforms\n",
    "from torchvision.models import resnet18\n",
    "import cv2\n",
    "import numpy as np\n",
    "import matplotlib.pyplot as plt\n",
    "from sklearn.metrics import confusion_matrix, classification_report\n",
    "import seaborn as sns\n",
    "import torch.nn as nn\n"
   ]
  },
  {
   "cell_type": "code",
   "execution_count": 6,
   "metadata": {
    "id": "cpbdrBC2wLpU"
   },
   "outputs": [],
   "source": [
    "class ComplexCNN(nn.Module):\n",
    "    def __init__(self, num_classes=2):\n",
    "        super(ComplexCNN, self).__init__()\n",
    "\n",
    "        self.features = nn.Sequential(\n",
    "            nn.Conv2d(3, 64, kernel_size=3, stride=1, padding=1),\n",
    "            nn.BatchNorm2d(64),\n",
    "            nn.ReLU(inplace=True),\n",
    "            nn.Conv2d(64, 128, kernel_size=3, stride=1, padding=1),\n",
    "            nn.BatchNorm2d(128),\n",
    "            nn.ReLU(inplace=True),\n",
    "            nn.MaxPool2d(kernel_size=2, stride=2),\n",
    "\n",
    "            nn.Conv2d(128, 256, kernel_size=3, stride=1, padding=1),\n",
    "            nn.BatchNorm2d(256),\n",
    "            nn.ReLU(inplace=True),\n",
    "            nn.Conv2d(256, 512, kernel_size=3, stride=1, padding=1),\n",
    "            nn.BatchNorm2d(512),\n",
    "            nn.ReLU(inplace=True),\n",
    "            nn.MaxPool2d(kernel_size=2, stride=2),\n",
    "\n",
    "            nn.Conv2d(512, 512, kernel_size=3, stride=1, padding=1),\n",
    "            nn.BatchNorm2d(512),\n",
    "            nn.ReLU(inplace=True),\n",
    "            nn.MaxPool2d(kernel_size=2, stride=2)\n",
    "        )\n",
    "\n",
    "        self.classifier = nn.Sequential(\n",
    "            nn.Dropout(0.5),\n",
    "            nn.Linear(512 * 8 * 8, 4096),  # Update this line\n",
    "            nn.ReLU(inplace=True),\n",
    "            nn.Dropout(0.5),\n",
    "            nn.Linear(4096, 4096),\n",
    "            nn.ReLU(inplace=True),\n",
    "            nn.Linear(4096, num_classes)\n",
    "        )\n",
    "\n",
    "    def forward(self, x):\n",
    "        x = self.features(x)\n",
    "        x = x.view(x.size(0), -1)  # Flatten the tensor\n",
    "        x = self.classifier(x)\n",
    "        return x\n"
   ]
  },
  {
   "cell_type": "code",
   "execution_count": 13,
   "metadata": {
    "id": "FRnr0dFMt2dc"
   },
   "outputs": [],
   "source": [
    "# Load YOLOv8 model\n",
    "\n",
    "yolo_model = YOLO('./UnderwaterDrone/Model/Model2-300.pt')\n",
    "\n",
    "# Load CNN model\n",
    "cnn_model = torch.load('./UnderwaterDrone/Model/cnn_model.pth',map_location=torch.device('cpu'))\n",
    "cnn_model.eval()\n",
    "\n",
    "# Use CUDA if available\n",
    "device = torch.device('cuda' if torch.cuda.is_available() else 'cpu')\n",
    "cnn_model = cnn_model.to(device)"
   ]
  },
  {
   "cell_type": "code",
   "execution_count": 14,
   "metadata": {
    "colab": {
     "base_uri": "https://localhost:8080/"
    },
    "id": "Cxs0K_1bt7wr",
    "outputId": "42f5979c-ca62-4661-8b1e-58eec7fdba6f"
   },
   "outputs": [
    {
     "name": "stdout",
     "output_type": "stream",
     "text": [
      "\n",
      "0: 352x640 (no detections), 737.8ms\n",
      "Speed: 81.1ms preprocess, 737.8ms inference, 12.0ms postprocess per image at shape (1, 3, 352, 640)\n",
      "\n",
      "0: 352x640 4 Gracillarias, 3 Linnaeuss, 204.8ms\n",
      "Speed: 4.0ms preprocess, 204.8ms inference, 21.6ms postprocess per image at shape (1, 3, 352, 640)\n",
      "\n",
      "0: 352x640 2 Gracillarias, 192.3ms\n",
      "Speed: 3.4ms preprocess, 192.3ms inference, 1.0ms postprocess per image at shape (1, 3, 352, 640)\n",
      "\n",
      "0: 352x640 1 Gracillaria, 252.6ms\n",
      "Speed: 6.0ms preprocess, 252.6ms inference, 0.8ms postprocess per image at shape (1, 3, 352, 640)\n",
      "\n",
      "0: 352x640 1 Gracillaria, 7 Linnaeuss, 180.3ms\n",
      "Speed: 2.0ms preprocess, 180.3ms inference, 0.0ms postprocess per image at shape (1, 3, 352, 640)\n",
      "\n",
      "0: 352x640 (no detections), 181.1ms\n",
      "Speed: 2.0ms preprocess, 181.1ms inference, 0.0ms postprocess per image at shape (1, 3, 352, 640)\n",
      "\n",
      "0: 352x640 2 Gracillarias, 1 Linnaeus, 192.3ms\n",
      "Speed: 3.0ms preprocess, 192.3ms inference, 1.0ms postprocess per image at shape (1, 3, 352, 640)\n",
      "\n",
      "0: 352x640 1 Gracillaria, 1 Linnaeus, 238.9ms\n",
      "Speed: 4.4ms preprocess, 238.9ms inference, 1.0ms postprocess per image at shape (1, 3, 352, 640)\n",
      "\n",
      "0: 352x640 (no detections), 270.0ms\n",
      "Speed: 4.3ms preprocess, 270.0ms inference, 0.0ms postprocess per image at shape (1, 3, 352, 640)\n",
      "\n",
      "0: 352x640 2 Gracillarias, 191.9ms\n",
      "Speed: 8.0ms preprocess, 191.9ms inference, 1.9ms postprocess per image at shape (1, 3, 352, 640)\n",
      "\n",
      "0: 352x640 1 Gracillaria, 183.7ms\n",
      "Speed: 3.1ms preprocess, 183.7ms inference, 1.0ms postprocess per image at shape (1, 3, 352, 640)\n",
      "\n",
      "0: 352x640 1 Gracillaria, 170.4ms\n",
      "Speed: 3.5ms preprocess, 170.4ms inference, 1.0ms postprocess per image at shape (1, 3, 352, 640)\n",
      "\n",
      "0: 352x640 (no detections), 160.8ms\n",
      "Speed: 3.0ms preprocess, 160.8ms inference, 0.0ms postprocess per image at shape (1, 3, 352, 640)\n",
      "\n",
      "0: 352x640 (no detections), 181.0ms\n",
      "Speed: 3.0ms preprocess, 181.0ms inference, 1.0ms postprocess per image at shape (1, 3, 352, 640)\n",
      "\n",
      "0: 352x640 (no detections), 266.3ms\n",
      "Speed: 5.0ms preprocess, 266.3ms inference, 0.0ms postprocess per image at shape (1, 3, 352, 640)\n",
      "\n",
      "0: 352x640 1 Gracillaria, 253.0ms\n",
      "Speed: 3.5ms preprocess, 253.0ms inference, 1.0ms postprocess per image at shape (1, 3, 352, 640)\n",
      "\n",
      "0: 352x640 1 Gracillaria, 1 Linnaeus, 201.8ms\n",
      "Speed: 3.0ms preprocess, 201.8ms inference, 1.0ms postprocess per image at shape (1, 3, 352, 640)\n",
      "\n",
      "0: 352x640 1 Gracillaria, 1 Linnaeus, 207.8ms\n",
      "Speed: 3.7ms preprocess, 207.8ms inference, 2.0ms postprocess per image at shape (1, 3, 352, 640)\n",
      "\n",
      "0: 352x640 1 Linnaeus, 173.7ms\n",
      "Speed: 3.3ms preprocess, 173.7ms inference, 1.0ms postprocess per image at shape (1, 3, 352, 640)\n",
      "\n",
      "0: 352x640 3 Gracillarias, 2 Linnaeuss, 181.9ms\n",
      "Speed: 3.1ms preprocess, 181.9ms inference, 2.0ms postprocess per image at shape (1, 3, 352, 640)\n"
     ]
    }
   ],
   "source": [
    "import cv2\n",
    "import torch\n",
    "from torchvision import transforms\n",
    "from PIL import Image\n",
    "import os\n",
    "\n",
    "# Define video path\n",
    "video_path = './UnderwaterDrone/Copy of Vid 3.1.mp4'\n",
    "\n",
    "# Set up transformations for CNN\n",
    "transform = transforms.Compose([\n",
    "    transforms.Resize((64, 64)),  # Ensure this matches your model's input size\n",
    "    transforms.ToTensor()\n",
    "])\n",
    "\n",
    "# Define colors for different classes\n",
    "colors = {\n",
    "    'gracillaria': (0, 0, 255),  # Red\n",
    "    'linnaeus': (0, 255, 0)     # Green\n",
    "}\n",
    "\n",
    "# Frame interval for processing (e.g., process every 10th frame)\n",
    "frame_interval = 100\n",
    "\n",
    "# Function to plot and save results\n",
    "def plot_save_image(image, boxes, labels, output_path):\n",
    "    for box, label in zip(boxes, labels):\n",
    "        x1, y1, x2, y2 = [int(coord) for coord in box]\n",
    "        label = label.lower()\n",
    "        color = colors.get(label)  # Default to white if label not in colors\n",
    "\n",
    "        # Draw the rectangle with the specified color\n",
    "        cv2.rectangle(image, (x1, y1), (x2, y2), color, 2)\n",
    "\n",
    "        # Draw the label with larger text\n",
    "        cv2.putText(image, label, (x1, y1 - 10), cv2.FONT_HERSHEY_SIMPLEX, 1.2, color, 2)\n",
    "\n",
    "    cv2.imwrite(output_path, image)\n",
    "\n",
    "# Create results directory if it doesn't exist\n",
    "os.makedirs('results', exist_ok=True)\n",
    "\n",
    "# Load the model and set to evaluation mode\n",
    "cnn_model.eval()\n",
    "device = torch.device(\"cuda\" if torch.cuda.is_available() else \"cpu\")\n",
    "cnn_model.to(device)\n",
    "\n",
    "# Process video\n",
    "cap = cv2.VideoCapture(video_path)\n",
    "all_labels, all_preds = [], []\n",
    "\n",
    "frame_num = 0\n",
    "while cap.isOpened():\n",
    "    ret, frame = cap.read()\n",
    "    if not ret:\n",
    "        break\n",
    "\n",
    "    # Process every 'frame_interval' frame\n",
    "    if frame_num % frame_interval == 0:\n",
    "        # YOLOv8 inference\n",
    "        yolo_results = yolo_model(frame)\n",
    "\n",
    "        # Process YOLO results\n",
    "        for result in yolo_results:\n",
    "            if result.boxes is not None:\n",
    "                for box in result.boxes:\n",
    "                    x1, y1, x2, y2 = box.xyxy[0].cpu().numpy().astype(int)\n",
    "                    crop = frame[y1:y2, x1:x2]\n",
    "\n",
    "                    # Ensure the crop is not empty\n",
    "                    if crop.size == 0:\n",
    "                        continue\n",
    "\n",
    "                    # Apply CNN for classification\n",
    "                    crop_pil = Image.fromarray(cv2.cvtColor(crop, cv2.COLOR_BGR2RGB))\n",
    "                    crop_tensor = transform(crop_pil).unsqueeze(0).to(device)\n",
    "\n",
    "                    with torch.no_grad():\n",
    "                        output = cnn_model(crop_tensor)\n",
    "                        _, predicted = torch.max(output, 1)\n",
    "                        label = 'Gracillaria' if predicted.item() == 0 else 'Linnaeus'\n",
    "\n",
    "                    # Store labels and predictions for evaluation\n",
    "                    detected_class_id = int(box.cls[0].cpu().numpy()) if box.cls is not None else None\n",
    "\n",
    "                    # Assume 'names' attribute is a dictionary mapping class IDs to names\n",
    "                    detected_label = yolo_model.names[detected_class_id] if detected_class_id is not None and detected_class_id < len(yolo_model.names) else 'unknown'\n",
    "\n",
    "                    all_labels.append(detected_label)\n",
    "                    all_preds.append(label)\n",
    "\n",
    "                    # Save or plot results\n",
    "                    plot_save_image(frame, [[x1, y1, x2, y2]], [label], f'results/frame_{frame_num}.jpg')\n",
    "\n",
    "    frame_num += 1\n",
    "\n",
    "cap.release()\n"
   ]
  },
  {
   "cell_type": "code",
   "execution_count": 15,
   "metadata": {
    "colab": {
     "base_uri": "https://localhost:8080/",
     "height": 663
    },
    "id": "ogPoqQYKt-Sr",
    "outputId": "04b08166-5710-4e62-d92d-2d6dc473dbc3"
   },
   "outputs": [
    {
     "name": "stdout",
     "output_type": "stream",
     "text": [
      "Unique Labels: {'Gracillaria', 'Linnaeus'}\n",
      "Unique Predictions: {'Gracillaria', 'Linnaeus'}\n"
     ]
    },
    {
     "data": {
      "image/png": "[encoded data removed]",
      "text/plain": [
       "<Figure size 640x480 with 2 Axes>"
      ]
     },
     "metadata": {},
     "output_type": "display_data"
    },
    {
     "name": "stdout",
     "output_type": "stream",
     "text": [
      "              precision    recall  f1-score   support\n",
      "\n",
      " Gracillaria       0.94      0.76      0.84        21\n",
      "    Linnaeus       0.76      0.94      0.84        17\n",
      "\n",
      "    accuracy                           0.84        38\n",
      "   macro avg       0.85      0.85      0.84        38\n",
      "weighted avg       0.86      0.84      0.84        38\n",
      "\n"
     ]
    }
   ],
   "source": [
    "from sklearn.metrics import classification_report, confusion_matrix\n",
    "import seaborn as sns\n",
    "import matplotlib.pyplot as plt\n",
    "\n",
    "# Check unique labels and predictions\n",
    "unique_labels = set(all_labels)\n",
    "unique_preds = set(all_preds)\n",
    "\n",
    "print(f\"Unique Labels: {unique_labels}\")\n",
    "print(f\"Unique Predictions: {unique_preds}\")\n",
    "\n",
    "# Define classes\n",
    "classes = ['Gracillaria','Linnaeus' ]\n",
    "\n",
    "# Ensure all labels and predictions match the classes\n",
    "all_labels_mapped = [label if label in classes else 'unknown' for label in all_labels]\n",
    "all_preds_mapped = [pred if pred in classes else 'unknown' for pred in all_preds]\n",
    "\n",
    "# Confusion Matrix\n",
    "cm = confusion_matrix(all_labels_mapped, all_preds_mapped, labels=classes)\n",
    "sns.heatmap(cm, annot=True, fmt=\"d\", cmap=\"Blues\", xticklabels=classes, yticklabels=classes)\n",
    "plt.xlabel('Predicted')\n",
    "plt.ylabel('True')\n",
    "plt.title('Confusion Matrix')\n",
    "plt.show()\n",
    "\n",
    "# Classification Report\n",
    "print(classification_report(all_labels_mapped, all_preds_mapped, target_names=classes, labels=classes))\n",
    "\n"
   ]
  }
 ],
 "metadata": {
  "accelerator": "GPU",
  "colab": {
   "gpuType": "T4",
   "provenance": []
  },
  "kernelspec": {
   "display_name": "venv",
   "language": "python",
   "name": "python3"
  },
  "language_info": {
   "codemirror_mode": {
    "name": "ipython",
    "version": 3
   },
   "file_extension": ".py",
   "mimetype": "text/x-python",
   "name": "python",
   "nbconvert_exporter": "python",
   "pygments_lexer": "ipython3",
   "version": "3.10.11"
  }
 },
 "nbformat": 4,
 "nbformat_minor": 0
}
